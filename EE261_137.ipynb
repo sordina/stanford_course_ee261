{
 "cells": [
  {
   "cell_type": "markdown",
   "metadata": {},
   "source": [
    "# EE261 - The Fourier Transform and its Applications\n",
    "\n",
    "## Lecture 1: <https://see.stanford.edu/Course/EE261/137>\n",
    "\n",
    "<br />\n"
   ]
  },
  {
   "cell_type": "code",
   "execution_count": 1,
   "metadata": {
    "collapsed": true
   },
   "outputs": [],
   "source": [
    "import numpy as np"
   ]
  },
  {
   "cell_type": "code",
   "execution_count": 8,
   "metadata": {
    "collapsed": false
   },
   "outputs": [
    {
     "data": {
      "text/plain": [
       "matrix([[1, 3],\n",
       "        [2, 4]])"
      ]
     },
     "execution_count": 8,
     "metadata": {},
     "output_type": "execute_result"
    }
   ],
   "source": [
    "a = np.matrix('1 2; 3 4')\n",
    "a.transpose()"
   ]
  },
  {
   "cell_type": "markdown",
   "metadata": {},
   "source": [
    "* Fourier Series is cool.\n",
    "* Periodic vs. non-periodic phenomena.\n",
    "* Starting with Fourier series.\n",
    "* Analysis vs. Synthesis\n",
    "* Analysis is about breaking functions into simpler parts\n",
    "* Synthesis is about reassembling functions from its parts\n",
    "* Accomplished by linear operations\n",
    "* Linear-Operations - I.E. Integrals and Series\n",
    "* Periodicity in Time, or Periodicity in Space\n",
    "* Symmetry of the object in question\n",
    "* FA often associated with symmetry\n",
    "* Frequency is about periods in time\n",
    "* Period in space\n",
    "* Reciperical relationship between frequency and wavelength $$\\nu \\lambda = v$$\n",
    "* cos(t) & sin(t) are periodic @ $$ 2 \\pi $$\n",
    "* Periodicity in space"
   ]
  }
 ],
 "metadata": {
  "kernelspec": {
   "display_name": "Python [Root]",
   "language": "python",
   "name": "Python [Root]"
  },
  "language_info": {
   "codemirror_mode": {
    "name": "ipython",
    "version": 2
   },
   "file_extension": ".py",
   "mimetype": "text/x-python",
   "name": "python",
   "nbconvert_exporter": "python",
   "pygments_lexer": "ipython2",
   "version": "2.7.12"
  }
 },
 "nbformat": 4,
 "nbformat_minor": 0
}
