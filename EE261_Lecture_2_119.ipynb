{
 "cells": [
  {
   "cell_type": "markdown",
   "metadata": {},
   "source": [
    "# EE261 - The Fourier Transform and its Applications\n",
    "\n",
    "## Lecture 2: <https://see.stanford.edu/Course/EE261/119>\n",
    "\n",
    "<br />\n"
   ]
  },
  {
   "cell_type": "code",
   "execution_count": 4,
   "metadata": {
    "collapsed": false
   },
   "outputs": [],
   "source": [
    "import numpy as np\n",
    "import matplotlib.pyplot as plt\n",
    "\n",
    "%matplotlib inline  "
   ]
  },
  {
   "cell_type": "code",
   "execution_count": 2,
   "metadata": {
    "collapsed": false
   },
   "outputs": [
    {
     "data": {
      "text/plain": [
       "matrix([[1, 3],\n",
       "        [2, 4]])"
      ]
     },
     "execution_count": 2,
     "metadata": {},
     "output_type": "execute_result"
    }
   ],
   "source": [
    "a = np.matrix('1 2; 3 4')\n",
    "a.transpose()"
   ]
  },
  {
   "cell_type": "markdown",
   "metadata": {},
   "source": [
    "* Applicable!\n",
    "* How can you use sin+cos to model complex periodic phenomena????? IDEK!!\n",
    "* How general? Pretty general! Aiming quite high.\n",
    "* How to model non-periodic stuff then eh?\n",
    "* Homework - Apply ideas of periodicity as an approximation\n",
    "* Just make signals that die out periodic by repeating the pattern! LOL!\n",
    "* Force extra symetry to simplify analysis\n",
    "* Periodization - Just makin' up words here!\n",
    "* See HW 1\n",
    "* Fix a period for this discussion - $$ 2 \\pi ? , 1 ? $$\n",
    "* Let's go with 1 for now.\n",
    "* Functions satisfying translational symetry of 1\n",
    "* Model signals $$ \\sin(2 \\pi t) , \\cos(2 \\pi t) $$\n",
    "* If know a function at an interval of its period anywhere, then we know it completely\n",
    "* Wow so amazing remarks are so cool\n",
    "* Modify and combine sin, cos to get quite general results\n",
    "\n",
    "### Big idea - Modification - One period - Many Frequencies\n",
    "\n",
    "Example: Period = 1, Frequency = 1 ~ $$ \\sin(2 \\pi t) $$\n",
    "\n",
    "Example: Period = 0.5,1, Frequency = 2,1 ~ $$ \\sin(4 \\pi t) $$\n",
    "\n",
    "Example: Period = 1/3,1 Frequency = 3,1 ~ $$ \\sin(6 \\pi t) $$\n",
    "\n",
    "etc...\n",
    "\n",
    "### Big idea - Combination - Addition of Components\n",
    "\n",
    "Example: $$ \\sin(2 \\pi t) + \\sin(4 \\pi t) + \\sin(6 \\pi t) $$"
   ]
  },
  {
   "cell_type": "code",
   "execution_count": 17,
   "metadata": {
    "collapsed": false
   },
   "outputs": [
    {
     "data": {
      "image/png": "[encoded data removed]",
      "text/plain": [
       "<matplotlib.figure.Figure at 0x10a566210>"
      ]
     },
     "metadata": {},
     "output_type": "display_data"
    }
   ],
   "source": [
    "pi = np.pi\n",
    "t = np.linspace(0, 2, 500)\n",
    "plt.plot(t, np.sin(2*pi*t) + np.sin(4*pi*t) + np.sin(6*pi*t))\n",
    "plt.show()"
   ]
  },
  {
   "cell_type": "markdown",
   "metadata": {},
   "source": [
    "Note: 3 frequencies in this signal, but only one period!"
   ]
  },
  {
   "cell_type": "markdown",
   "metadata": {},
   "source": [
    "More revealing to talk about signals in terms of frequencies as this\n",
    "allows for analysis in terms of decomposition.\n",
    "\n",
    "Also, we can modify amplitudes and phases.\n",
    "\n",
    "So, we can modify amplitude, frequency and phases of components and sum them!!!!!\n",
    "\n",
    "Example: $$ \\sum\\limits_{k=1}^n A_k \\sin(2 \\pi k t + \\varphi_k) $$\n",
    "\n",
    "Higher terms have higher frequencies (as in music) but period can only be 1!!\n",
    "\n",
    "## Program sinesum2 - Plot sums - Play sounds"
   ]
  },
  {
   "cell_type": "code",
   "execution_count": 30,
   "metadata": {
    "collapsed": true
   },
   "outputs": [],
   "source": [
    "def f(t, (k,(a,p))):\n",
    "    return a * np.sin(2*pi*k*t+p)\n",
    "\n",
    "def sinesum2(t, *terms):\n",
    "    components = map(lambda x: f(t,x), enumerate(terms))\n",
    "    return sum(components)"
   ]
  },
  {
   "cell_type": "code",
   "execution_count": 40,
   "metadata": {
    "collapsed": false
   },
   "outputs": [
    {
     "data": {
      "image/png": "[encoded data removed]",
      "text/plain": [
       "<matplotlib.figure.Figure at 0x110c3e790>"
      ]
     },
     "metadata": {},
     "output_type": "display_data"
    }
   ],
   "source": [
    "t = np.linspace(0, 1, 500)\n",
    "plt.plot(t, sinesum2(t,(2,1),(1,4),(1,41),(1,13)))\n",
    "plt.show()"
   ]
  },
  {
   "cell_type": "markdown",
   "metadata": {},
   "source": [
    "Other ways of writing the sum too...\n",
    "\n",
    "$$ \\sum\\limits_{k=1}^n A_k \\sin(2 \\pi k t + \\varphi_k) = \\sum\\limits_{k=1}^n a_k \\cos(2 \\pi k t) + b_k \\sin(2 \\pi k t ) $$"
   ]
  },
  {
   "cell_type": "markdown",
   "metadata": {},
   "source": [
    "Allow for constant terms as well.\n",
    "\n",
    "$$ \\dfrac{a_0}{2} + \\sum\\limits_{k=1}^n a_k \\cos(2 \\pi k t) + b_k \\sin(2 \\pi k t ) $$"
   ]
  },
  {
   "cell_type": "markdown",
   "metadata": {},
   "source": [
    "a0/2 is the dc component... Electrical engineers do this...\n",
    "\n",
    "That's because in circuit analysis, there is a direct portion of power even in ac circuits.\n",
    "\n",
    "Not great terminoligy since there are many non-electrical applications."
   ]
  },
  {
   "cell_type": "markdown",
   "metadata": {},
   "source": [
    "Complex exponentials are another option for expression.\n",
    "\n",
    "Better algebraically and conceptually to use\n",
    "complex exponentials and write the sum that way.\n",
    "\n",
    "Why??"
   ]
  },
  {
   "cell_type": "markdown",
   "metadata": {},
   "source": [
    "Recall that\n",
    "\n",
    "$$ e^{2 \\pi i k t} = \\cos(2 \\pi k t) + b_k \\sin(2 \\pi k t ) $$\n",
    "\n",
    "$$ {i} = \\sqrt{-1} $$"
   ]
  },
  {
   "cell_type": "markdown",
   "metadata": {},
   "source": [
    "Make sure that the coefficients are complex numbers that satisfy the symmetry property:\n",
    "\n",
    "$$ C_{-k} = \\bar{C_k} $$"
   ]
  },
  {
   "cell_type": "markdown",
   "metadata": {},
   "source": [
    "Sum of reflections must therefore be real?\n",
    "\n",
    "Bidirectional implication.\n",
    "\n",
    "Notation, dagger, star, bar, etc.\n",
    "\n",
    "We'll use bar."
   ]
  },
  {
   "cell_type": "markdown",
   "metadata": {},
   "source": [
    "Now, can we write...\n",
    "\n",
    "$$ f(t) = \\sum\\limits_{k=-n}^n C_k e^{2 \\pi i k t} $$\n",
    "\n",
    "We'll find out next time.\n",
    "\n",
    "$$ C_0 $$ is real. By implication."
   ]
  },
  {
   "cell_type": "markdown",
   "metadata": {},
   "source": [
    "##  Woah man\n",
    "\n",
    "When doing mathematics - when asking a yes/no question,\n",
    "assume yes, then work from that assumption. Follow it to its conclusions."
   ]
  },
  {
   "cell_type": "markdown",
   "metadata": {},
   "source": [
    "Using this principle here, we can isolate a term of the sum:\n",
    "\n",
    "$$ C_m e^{2 \\pi i m t} = f(t) - \\sum\\limits_{k \\ne m} C_k e^{2 \\pi i k t} $$\n",
    "\n",
    "$$ C_m =  e^{-2 \\pi i m t} f(t) - \\sum\\limits_{k \\ne m} C_k e^{-2 \\pi i m t} e^{2 \\pi i k t} $$\n",
    "\n",
    "$$ C_m =  e^{-2 \\pi i m t} f(t) - \\sum\\limits_{k \\ne m} C_k e^{2 \\pi i (k-m) t} $$"
   ]
  },
  {
   "cell_type": "markdown",
   "metadata": {},
   "source": [
    "Integrate both sides wrt t from 0-1... lol constants just become themselves:\n",
    "\n",
    "$$ \\int_0^1 C_m dt = \\int_0^1 e^{-2 \\pi i m t} f(t) - \\sum\\limits_{k \\ne m} C_k e^{2 \\pi i (k-m) t} dt $$\n",
    "\n",
    "$$ C_m = \\int_0^1 \\left( e^{-2 \\pi i m t} f(t) - \\sum\\limits_{k \\ne m} C_k e^{2 \\pi i (k-m) t} \\right) dt $$\n",
    "\n",
    "$$ C_m = \\int_0^1 e^{-2 \\pi i m t} f(t) dt - \\sum\\limits_{k \\ne m} C_k \\int_0^1 e^{2 \\pi i (k-m) t} dt $$\n",
    "\n",
    "$$  \\int_0^1 e^{2 \\pi i (k-m) t} dt = 0 \\space \\text{lol} $$\n",
    "\n",
    "$$ C_m = \\int_0^1 e^{-2 \\pi i m t} f(t) dt $$"
   ]
  }
 ],
 "metadata": {
  "kernelspec": {
   "display_name": "Python [Root]",
   "language": "python",
   "name": "Python [Root]"
  },
  "language_info": {
   "codemirror_mode": {
    "name": "ipython",
    "version": 2
   },
   "file_extension": ".py",
   "mimetype": "text/x-python",
   "name": "python",
   "nbconvert_exporter": "python",
   "pygments_lexer": "ipython2",
   "version": "2.7.12"
  }
 },
 "nbformat": 4,
 "nbformat_minor": 0
}
